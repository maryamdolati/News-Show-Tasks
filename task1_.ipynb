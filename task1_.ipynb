{
  "nbformat": 4,
  "nbformat_minor": 0,
  "metadata": {
    "colab": {
      "provenance": []
    },
    "kernelspec": {
      "name": "python3",
      "display_name": "Python 3"
    },
    "language_info": {
      "name": "python"
    }
  },
  "cells": [
    {
      "cell_type": "code",
      "execution_count": null,
      "metadata": {
        "colab": {
          "base_uri": "https://localhost:8080/"
        },
        "id": "Nb97yczE3onk",
        "outputId": "93fb510b-ade6-453a-dc9a-69623176410a"
      },
      "outputs": [
        {
          "output_type": "stream",
          "name": "stdout",
          "text": [
            "Mounted at /content/drive\n"
          ]
        }
      ],
      "source": [
        "from google.colab import drive\n",
        "drive.mount('/content/drive')\n"
      ]
    },
    {
      "cell_type": "code",
      "source": [
        "import json\n",
        "import pandas as pd\n",
        "\n",
        "# Read the CSV file\n",
        "csv_path = '/content/drive/MyDrive/to_fill.csv'\n",
        "df = pd.read_csv(csv_path)\n",
        "\n",
        "# Define a function to extract the body, start time, and end time from a JSON file\n",
        "def extract_info(json_path):\n",
        "    with open(json_path, 'r') as f:\n",
        "        json_data = json.load(f)\n",
        "    \n",
        "    body = json_data['text']  # replace 'full_text' with 'text'\n",
        "    start = json_data['words'][0]['start']\n",
        "    end = json_data['words'][-1]['end']\n",
        "    \n",
        "    return body, start, end\n",
        "\n",
        "\n",
        "# Define a function to extract the first 8 and last 8 words from a story\n",
        "def extract_first_last_words(row):\n",
        "    words = row['body'].split()\n",
        "    first_words = ' '.join(words[:8])\n",
        "    last_words = ' '.join(words[-8:])\n",
        "    return first_words, last_words\n",
        "\n",
        "\n",
        "\n",
        "# Iterate over the JSON file paths and add the required columns to the dataframe\n",
        "json_paths = ['/content/drive/MyDrive/18246.json',\n",
        "              '/content/drive/MyDrive/16859.json',\n",
        "              '/content/drive/MyDrive/12387.json']\n",
        "\n",
        "for json_path in json_paths:\n",
        "    transcription_id = json_path.split('/')[-1].split('.')[0]\n",
        "    body, start, end = extract_info(json_path)\n",
        "    df.loc[df['source_video_id'] == int(transcription_id), 'body'] = body\n",
        "    df.loc[df['source_video_id'] == int(transcription_id), 'start'] = start\n",
        "    df.loc[df['source_video_id'] == int(transcription_id), 'end'] = end\n",
        "\n",
        "# Apply the function to create new columns for first and last words\n",
        "df['first_words'], df['last_words'] = zip(*df.apply(extract_first_last_words, axis=1))\n",
        "\n",
        "# Display the resulting dataframe\n",
        "print(df.head())\n"
      ],
      "metadata": {
        "colab": {
          "base_uri": "https://localhost:8080/"
        },
        "id": "_Hx-GG4z4Vot",
        "outputId": "cd7362d0-ef09-480f-ade1-4515aaf6cd8b"
      },
      "execution_count": null,
      "outputs": [
        {
          "output_type": "stream",
          "name": "stdout",
          "text": [
            "                                         first_words  \\\n",
            "0              And that's just what Guy Al has done.   \n",
            "1  Bit unusual. Ktv crime reporter Henry Lee joining   \n",
            "2       Yesterday. We're on 115 for those hot spots,   \n",
            "3              And that's just what Guy Al has done.   \n",
            "4       Yesterday. We're on 115 for those hot spots,   \n",
            "\n",
            "                                        last_words  source_video_id  \\\n",
            "0  the country. Mandela's visit comes as the most.            18246   \n",
            "1        win. It's time to make this thing happen.            12387   \n",
            "2   With your good credit, celebrate the start of.            16859   \n",
            "3  the country. Mandela's visit comes as the most.            18246   \n",
            "4   With your good credit, celebrate the start of.            16859   \n",
            "\n",
            "                                                body  start        end  \n",
            "0  And that's just what Guy Al has done. She take...   70.0   717620.0  \n",
            "1  Bit unusual. Ktv crime reporter Henry Lee join...  190.0   717560.0  \n",
            "2  Yesterday. We're on 115 for those hot spots, s...  790.0  1316540.0  \n",
            "3  And that's just what Guy Al has done. She take...   70.0   717620.0  \n",
            "4  Yesterday. We're on 115 for those hot spots, s...  790.0  1316540.0  \n"
          ]
        }
      ]
    },
    {
      "cell_type": "code",
      "source": [
        "print(df['body'])"
      ],
      "metadata": {
        "colab": {
          "base_uri": "https://localhost:8080/"
        },
        "id": "_ym8CCUc9ZTg",
        "outputId": "fd979d9e-d2da-4c63-c076-e92dd969705d"
      },
      "execution_count": null,
      "outputs": [
        {
          "output_type": "stream",
          "name": "stdout",
          "text": [
            "0     And that's just what Guy Al has done. She take...\n",
            "1     Bit unusual. Ktv crime reporter Henry Lee join...\n",
            "2     Yesterday. We're on 115 for those hot spots, s...\n",
            "3     And that's just what Guy Al has done. She take...\n",
            "4     Yesterday. We're on 115 for those hot spots, s...\n",
            "5     And that's just what Guy Al has done. She take...\n",
            "6     And that's just what Guy Al has done. She take...\n",
            "7     Bit unusual. Ktv crime reporter Henry Lee join...\n",
            "8     Yesterday. We're on 115 for those hot spots, s...\n",
            "9     Yesterday. We're on 115 for those hot spots, s...\n",
            "10    Yesterday. We're on 115 for those hot spots, s...\n",
            "11    And that's just what Guy Al has done. She take...\n",
            "12    And that's just what Guy Al has done. She take...\n",
            "13    And that's just what Guy Al has done. She take...\n",
            "14    And that's just what Guy Al has done. She take...\n",
            "15    Bit unusual. Ktv crime reporter Henry Lee join...\n",
            "16    Bit unusual. Ktv crime reporter Henry Lee join...\n",
            "17    Bit unusual. Ktv crime reporter Henry Lee join...\n",
            "Name: body, dtype: object\n"
          ]
        }
      ]
    },
    {
      "cell_type": "code",
      "source": [
        "print(df['start'])"
      ],
      "metadata": {
        "colab": {
          "base_uri": "https://localhost:8080/"
        },
        "id": "fNyq7foo-As-",
        "outputId": "48089eff-9809-4690-8a95-6d1eaf2c9f31"
      },
      "execution_count": null,
      "outputs": [
        {
          "output_type": "stream",
          "name": "stdout",
          "text": [
            "0      70.0\n",
            "1     190.0\n",
            "2     790.0\n",
            "3      70.0\n",
            "4     790.0\n",
            "5      70.0\n",
            "6      70.0\n",
            "7     190.0\n",
            "8     790.0\n",
            "9     790.0\n",
            "10    790.0\n",
            "11     70.0\n",
            "12     70.0\n",
            "13     70.0\n",
            "14     70.0\n",
            "15    190.0\n",
            "16    190.0\n",
            "17    190.0\n",
            "Name: start, dtype: float64\n"
          ]
        }
      ]
    },
    {
      "cell_type": "code",
      "source": [
        "print(df['end'])\n"
      ],
      "metadata": {
        "colab": {
          "base_uri": "https://localhost:8080/"
        },
        "id": "0cIBkia6-JnW",
        "outputId": "5c3c6049-da7a-471d-b2d4-6c6ea96ae2ba"
      },
      "execution_count": null,
      "outputs": [
        {
          "output_type": "stream",
          "name": "stdout",
          "text": [
            "0      717620.0\n",
            "1      717560.0\n",
            "2     1316540.0\n",
            "3      717620.0\n",
            "4     1316540.0\n",
            "5      717620.0\n",
            "6      717620.0\n",
            "7      717560.0\n",
            "8     1316540.0\n",
            "9     1316540.0\n",
            "10    1316540.0\n",
            "11     717620.0\n",
            "12     717620.0\n",
            "13     717620.0\n",
            "14     717620.0\n",
            "15     717560.0\n",
            "16     717560.0\n",
            "17     717560.0\n",
            "Name: end, dtype: float64\n"
          ]
        }
      ]
    }
  ]
}